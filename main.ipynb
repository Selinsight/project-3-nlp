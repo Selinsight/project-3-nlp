{
 "cells": [
  {
   "cell_type": "code",
   "execution_count": 44,
   "metadata": {},
   "outputs": [],
   "source": [
    "\n",
    "import pandas as pd\n",
    "import numpy as np\n",
    "import warnings\n",
    "import os\n",
    "\n",
    "import nltk\n",
    "\n",
    "\n",
    "from nltk.stem import WordNetLemmatizer # to lemmatize the words\n",
    "from nltk.tokenize import word_tokenize\n",
    "from nltk.corpus import wordnet # to get the wordnet pos tags\n",
    "from nltk.corpus import stopwords # to remove the stopwords\n",
    "from sklearn.feature_extraction.text import CountVectorizer # to create a bag of words\n",
    "\n",
    "# Machine Learning\n",
    "from sklearn.cluster import KMeans\n",
    "from kneed import KneeLocator\n",
    "from sklearn.metrics import silhouette_score"
   ]
  },
  {
   "cell_type": "markdown",
   "metadata": {},
   "source": [
    "<h1 style=\"color:blue;\">Data Extraction</h1>"
   ]
  },
  {
   "cell_type": "code",
   "execution_count": 45,
   "metadata": {},
   "outputs": [],
   "source": [
    "current_path = os.getcwd()\n",
    "data_path = os.path.join(current_path, 'dataset')\n",
    "data_csv = os.path.join(data_path, 'training_data.csv')"
   ]
  },
  {
   "cell_type": "code",
   "execution_count": 46,
   "metadata": {},
   "outputs": [],
   "source": [
    "data = pd.read_csv(data_csv, sep='\\t')"
   ]
  },
  {
   "cell_type": "code",
   "execution_count": 47,
   "metadata": {},
   "outputs": [],
   "source": [
    "df = data.copy()"
   ]
  },
  {
   "cell_type": "markdown",
   "metadata": {},
   "source": [
    "<h1 style=\"color:blue;\">Data Cleaning</h1>"
   ]
  },
  {
   "cell_type": "code",
   "execution_count": 48,
   "metadata": {},
   "outputs": [],
   "source": [
    "# snake_columns\n",
    "def snake_columns(df):\n",
    "\tif any(column.isupper() for column in df.columns):\n",
    "\t\tdf.columns = [column.strip().lower().replace(' ', '_').replace('-', '_') for column in df.columns]\n",
    "\treturn df"
   ]
  },
  {
   "cell_type": "code",
   "execution_count": 49,
   "metadata": {},
   "outputs": [
    {
     "name": "stdout",
     "output_type": "stream",
     "text": [
      "   label                                           headline\n",
      "0      0  drunk bragging trump staffer started russian c...\n",
      "1      0  sheriff david clarke becomes an internet joke ...\n",
      "2      0  trump is so obsessed he even has obama‚s name ...\n",
      "3      0  pope francis just called out donald trump duri...\n",
      "4      0  racist alabama cops brutalize black boy while ...\n"
     ]
    }
   ],
   "source": [
    "df.rename(columns={df.columns[0]: 'label', df.columns[1]: 'headline'}, inplace=True)\n",
    "print(df.head())"
   ]
  },
  {
   "cell_type": "code",
   "execution_count": 50,
   "metadata": {},
   "outputs": [
    {
     "data": {
      "text/plain": [
       "(32205, 2)"
      ]
     },
     "execution_count": 50,
     "metadata": {},
     "output_type": "execute_result"
    }
   ],
   "source": [
    "df.duplicated().sum()\n",
    "df.drop_duplicates(inplace=True)\n",
    "df.shape\n"
   ]
  },
  {
   "cell_type": "code",
   "execution_count": 51,
   "metadata": {},
   "outputs": [
    {
     "name": "stdout",
     "output_type": "stream",
     "text": [
      "Max length: 279 characters\n",
      "Min length: 2 characters\n"
     ]
    }
   ],
   "source": [
    "max_len = df['headline'].str.len().max()\n",
    "min_len = df[\"headline\"].str.len().min()\n",
    "\n",
    "print(f\"Max length: {max_len} characters\")\n",
    "print(f\"Min length: {min_len} characters\")"
   ]
  },
  {
   "cell_type": "markdown",
   "metadata": {},
   "source": [
    "<h1 style=\"color:blue;\">Data Preprocessing</h1>"
   ]
  },
  {
   "cell_type": "code",
   "execution_count": 54,
   "metadata": {},
   "outputs": [],
   "source": [
    "# remove punctuation and do tokenization\n",
    "def clean_text(text):\n",
    "    text = text.lower()\n",
    "    text = word_tokenize(text)\n",
    "    text = [word for word in text if word.isalpha()]\n",
    "    return text"
   ]
  },
  {
   "cell_type": "code",
   "execution_count": 55,
   "metadata": {},
   "outputs": [
    {
     "name": "stderr",
     "output_type": "stream",
     "text": [
      "[nltk_data] Downloading package stopwords to\n",
      "[nltk_data]     /Users/selinwork/nltk_data...\n",
      "[nltk_data]   Package stopwords is already up-to-date!\n"
     ]
    },
    {
     "data": {
      "text/html": [
       "<div>\n",
       "<style scoped>\n",
       "    .dataframe tbody tr th:only-of-type {\n",
       "        vertical-align: middle;\n",
       "    }\n",
       "\n",
       "    .dataframe tbody tr th {\n",
       "        vertical-align: top;\n",
       "    }\n",
       "\n",
       "    .dataframe thead th {\n",
       "        text-align: right;\n",
       "    }\n",
       "</style>\n",
       "<table border=\"1\" class=\"dataframe\">\n",
       "  <thead>\n",
       "    <tr style=\"text-align: right;\">\n",
       "      <th></th>\n",
       "      <th>label</th>\n",
       "      <th>headline</th>\n",
       "    </tr>\n",
       "  </thead>\n",
       "  <tbody>\n",
       "    <tr>\n",
       "      <th>0</th>\n",
       "      <td>0</td>\n",
       "      <td>drunk bragging trump staffer started russian c...</td>\n",
       "    </tr>\n",
       "    <tr>\n",
       "      <th>1</th>\n",
       "      <td>0</td>\n",
       "      <td>sheriff david clarke becomes internet joke thr...</td>\n",
       "    </tr>\n",
       "    <tr>\n",
       "      <th>2</th>\n",
       "      <td>0</td>\n",
       "      <td>trump obsessed even obama‚s name coded website...</td>\n",
       "    </tr>\n",
       "    <tr>\n",
       "      <th>3</th>\n",
       "      <td>0</td>\n",
       "      <td>pope francis called donald trump christmas speech</td>\n",
       "    </tr>\n",
       "    <tr>\n",
       "      <th>4</th>\n",
       "      <td>0</td>\n",
       "      <td>racist alabama cops brutalize black boy handcu...</td>\n",
       "    </tr>\n",
       "  </tbody>\n",
       "</table>\n",
       "</div>"
      ],
      "text/plain": [
       "   label                                           headline\n",
       "0      0  drunk bragging trump staffer started russian c...\n",
       "1      0  sheriff david clarke becomes internet joke thr...\n",
       "2      0  trump obsessed even obama‚s name coded website...\n",
       "3      0  pope francis called donald trump christmas speech\n",
       "4      0  racist alabama cops brutalize black boy handcu..."
      ]
     },
     "execution_count": 55,
     "metadata": {},
     "output_type": "execute_result"
    }
   ],
   "source": [
    "# remove stopwords\n",
    "nltk.download('stopwords')\n",
    "\n",
    "df['headline'] = df['headline'].apply(lambda x: ' '.join([word for word in x.split() if word not in (stopwords.words('english'))]))\n",
    "df.head()\n",
    "\n"
   ]
  },
  {
   "cell_type": "code",
   "execution_count": 56,
   "metadata": {
    "vscode": {
     "languageId": "javascript"
    }
   },
   "outputs": [
    {
     "name": "stdout",
     "output_type": "stream",
     "text": [
      "   Original                                          Processed\n",
      "0         0  drunk bragging trump staffer started russian c...\n",
      "1         0  sheriff david clarke becomes internet joke thr...\n",
      "2         0  trump obsessed even obama‚s name coded website...\n",
      "3         0  pope francis called donald trump christmas speech\n",
      "4         0  racist alabama cops brutalize black boy handcu...\n",
      "5         0                                  fresh golf course\n",
      "6         0  trump said insanely racist stuff inside oval o...\n",
      "7         0        former cia director slams trump un bullying\n",
      "8         0  brand-new pro-trump ad features much a** kissi...\n",
      "9         0                        papa john‚s founder retires\n"
     ]
    }
   ],
   "source": [
    "'''Display a few original headlines and their processed versions'''\n",
    "\n",
    "\n",
    "original_headlines = data.head(10)\n",
    "processed_headlines = df.head(10)\n",
    "\n",
    "comparison = pd.DataFrame({\n",
    "    'Original': original_headlines.iloc[:, 0],\n",
    "    'Processed': processed_headlines['headline']\n",
    "})\n",
    "\n",
    "print(comparison)"
   ]
  },
  {
   "cell_type": "markdown",
   "metadata": {},
   "source": [
    "<h1 style=\"color:blue;\">Sentiment Analysis with VADER</h1>\n",
    "\n",
    "1. I checked the sentiment analysis of different groups like fake headline data and real headline data.\n",
    "\n",
    "2. I combined two of them to understand the sentiment behaviours of the sentences\n",
    "\n",
    "3. My conclusion from this part is fake headlines has less negative scores than real ones usually they subtly provoke the emotional responses. But rela headlines are giving the factual events without masking them.\n",
    "\n",
    "4. There was no positivity as expected the nature of the news which they should be more neutral but not positive.\n",
    "\n"
   ]
  },
  {
   "cell_type": "code",
   "execution_count": 57,
   "metadata": {},
   "outputs": [
    {
     "name": "stderr",
     "output_type": "stream",
     "text": [
      "[nltk_data] Downloading package vader_lexicon to\n",
      "[nltk_data]     /Users/selinwork/nltk_data...\n",
      "[nltk_data]   Package vader_lexicon is already up-to-date!\n"
     ]
    }
   ],
   "source": [
    "nltk.download('vader_lexicon')\n",
    "\n",
    "from nltk.sentiment import SentimentIntensityAnalyzer\n",
    "vd = SentimentIntensityAnalyzer()"
   ]
  },
  {
   "cell_type": "code",
   "execution_count": 68,
   "metadata": {},
   "outputs": [],
   "source": [
    "df0 = df[df['label'] == 0]\n",
    "df1 = df[df['label'] == 1]"
   ]
  },
  {
   "cell_type": "code",
   "execution_count": 69,
   "metadata": {},
   "outputs": [
    {
     "name": "stderr",
     "output_type": "stream",
     "text": [
      "/var/folders/rp/xh3vdlq17n94q_y2mld23x5r0000gn/T/ipykernel_38631/39386671.py:1: SettingWithCopyWarning: \n",
      "A value is trying to be set on a copy of a slice from a DataFrame.\n",
      "Try using .loc[row_indexer,col_indexer] = value instead\n",
      "\n",
      "See the caveats in the documentation: https://pandas.pydata.org/pandas-docs/stable/user_guide/indexing.html#returning-a-view-versus-a-copy\n",
      "  df0['sentiment'] = df0['headline'].apply(lambda x: vd.polarity_scores(x)['compound'])\n",
      "/var/folders/rp/xh3vdlq17n94q_y2mld23x5r0000gn/T/ipykernel_38631/39386671.py:2: SettingWithCopyWarning: \n",
      "A value is trying to be set on a copy of a slice from a DataFrame.\n",
      "Try using .loc[row_indexer,col_indexer] = value instead\n",
      "\n",
      "See the caveats in the documentation: https://pandas.pydata.org/pandas-docs/stable/user_guide/indexing.html#returning-a-view-versus-a-copy\n",
      "  df1['sentiment'] = df1['headline'].apply(lambda x: vd.polarity_scores(x)['compound'])\n"
     ]
    }
   ],
   "source": [
    "df0['sentiment'] = df0['headline'].apply(lambda x: vd.polarity_scores(x)['compound'])\n",
    "df1['sentiment'] = df1['headline'].apply(lambda x: vd.polarity_scores(x)['compound'])"
   ]
  },
  {
   "cell_type": "code",
   "execution_count": 86,
   "metadata": {},
   "outputs": [
    {
     "name": "stderr",
     "output_type": "stream",
     "text": [
      "/var/folders/rp/xh3vdlq17n94q_y2mld23x5r0000gn/T/ipykernel_38631/1801275312.py:3: SettingWithCopyWarning: \n",
      "A value is trying to be set on a copy of a slice from a DataFrame.\n",
      "Try using .loc[row_indexer,col_indexer] = value instead\n",
      "\n",
      "See the caveats in the documentation: https://pandas.pydata.org/pandas-docs/stable/user_guide/indexing.html#returning-a-view-versus-a-copy\n",
      "  df0['sentiment'] = df0['sentiment'].apply(lambda x: 1 if x >= 0.05 else (0 if x >= -0.05 else -1))\n",
      "/var/folders/rp/xh3vdlq17n94q_y2mld23x5r0000gn/T/ipykernel_38631/1801275312.py:4: SettingWithCopyWarning: \n",
      "A value is trying to be set on a copy of a slice from a DataFrame.\n",
      "Try using .loc[row_indexer,col_indexer] = value instead\n",
      "\n",
      "See the caveats in the documentation: https://pandas.pydata.org/pandas-docs/stable/user_guide/indexing.html#returning-a-view-versus-a-copy\n",
      "  df1['sentiment'] = df1['sentiment'].apply(lambda x: 1 if x >= 0.05 else (0 if x >= -0.05 else -1))\n"
     ]
    }
   ],
   "source": [
    "# positive sentiment, negative sentiment, neutral sentiment\n",
    "map = {1: 'positive', 0: 'neutral', -1: 'negative'}\n",
    "df0['sentiment'] = df0['sentiment'].apply(lambda x: 1 if x >= 0.05 else (0 if x >= -0.05 else -1))\n",
    "df1['sentiment'] = df1['sentiment'].apply(lambda x: 1 if x >= 0.05 else (0 if x >= -0.05 else -1))\n",
    "\n"
   ]
  },
  {
   "cell_type": "code",
   "execution_count": 85,
   "metadata": {},
   "outputs": [
    {
     "data": {
      "text/html": [
       "<div>\n",
       "<style scoped>\n",
       "    .dataframe tbody tr th:only-of-type {\n",
       "        vertical-align: middle;\n",
       "    }\n",
       "\n",
       "    .dataframe tbody tr th {\n",
       "        vertical-align: top;\n",
       "    }\n",
       "\n",
       "    .dataframe thead th {\n",
       "        text-align: right;\n",
       "    }\n",
       "</style>\n",
       "<table border=\"1\" class=\"dataframe\">\n",
       "  <thead>\n",
       "    <tr style=\"text-align: right;\">\n",
       "      <th></th>\n",
       "      <th>label</th>\n",
       "      <th>sentiment</th>\n",
       "    </tr>\n",
       "  </thead>\n",
       "  <tbody>\n",
       "    <tr>\n",
       "      <th>0</th>\n",
       "      <td>0</td>\n",
       "      <td>-0.235147</td>\n",
       "    </tr>\n",
       "    <tr>\n",
       "      <th>1</th>\n",
       "      <td>1</td>\n",
       "      <td>-0.075830</td>\n",
       "    </tr>\n",
       "  </tbody>\n",
       "</table>\n",
       "</div>"
      ],
      "text/plain": [
       "   label  sentiment\n",
       "0      0  -0.235147\n",
       "1      1  -0.075830"
      ]
     },
     "execution_count": 85,
     "metadata": {},
     "output_type": "execute_result"
    }
   ],
   "source": [
    "polarity = pd.DataFrame({'label': [0, 1], 'sentiment': [df0['sentiment'].mean(), df1['sentiment'].mean()]})\n",
    "polarity"
   ]
  },
  {
   "cell_type": "code",
   "execution_count": 77,
   "metadata": {},
   "outputs": [
    {
     "data": {
      "text/html": [
       "<div>\n",
       "<style scoped>\n",
       "    .dataframe tbody tr th:only-of-type {\n",
       "        vertical-align: middle;\n",
       "    }\n",
       "\n",
       "    .dataframe tbody tr th {\n",
       "        vertical-align: top;\n",
       "    }\n",
       "\n",
       "    .dataframe thead th {\n",
       "        text-align: right;\n",
       "    }\n",
       "</style>\n",
       "<table border=\"1\" class=\"dataframe\">\n",
       "  <thead>\n",
       "    <tr style=\"text-align: right;\">\n",
       "      <th></th>\n",
       "      <th>label</th>\n",
       "      <th>headline</th>\n",
       "      <th>sentiment</th>\n",
       "    </tr>\n",
       "  </thead>\n",
       "  <tbody>\n",
       "    <tr>\n",
       "      <th>20049</th>\n",
       "      <td>1</td>\n",
       "      <td>'what happened': clinton memoir looks 2016 ele...</td>\n",
       "      <td>0.0000</td>\n",
       "    </tr>\n",
       "    <tr>\n",
       "      <th>11030</th>\n",
       "      <td>0</td>\n",
       "      <td>yea baby! trump reverses obama pro-abortion ‚p...</td>\n",
       "      <td>0.0000</td>\n",
       "    </tr>\n",
       "    <tr>\n",
       "      <th>6534</th>\n",
       "      <td>0</td>\n",
       "      <td>white vote can‚t won‚t save trump ‚ republican...</td>\n",
       "      <td>0.0000</td>\n",
       "    </tr>\n",
       "    <tr>\n",
       "      <th>29749</th>\n",
       "      <td>1</td>\n",
       "      <td>eu gives june deadline deal refugees</td>\n",
       "      <td>0.0000</td>\n",
       "    </tr>\n",
       "    <tr>\n",
       "      <th>4927</th>\n",
       "      <td>0</td>\n",
       "      <td>gop senator says trump doesn‚t deserve win</td>\n",
       "      <td>0.5859</td>\n",
       "    </tr>\n",
       "    <tr>\n",
       "      <th>30976</th>\n",
       "      <td>1</td>\n",
       "      <td>chile's leftists stop short endorsing presiden...</td>\n",
       "      <td>-0.2960</td>\n",
       "    </tr>\n",
       "    <tr>\n",
       "      <th>6156</th>\n",
       "      <td>0</td>\n",
       "      <td>unfortunate bug lands trump‚s hair rally</td>\n",
       "      <td>-0.4588</td>\n",
       "    </tr>\n",
       "    <tr>\n",
       "      <th>3501</th>\n",
       "      <td>0</td>\n",
       "      <td>prominent holocaust attorney files massive law...</td>\n",
       "      <td>0.1027</td>\n",
       "    </tr>\n",
       "    <tr>\n",
       "      <th>31452</th>\n",
       "      <td>1</td>\n",
       "      <td>argentina's macri expects missing sub found co...</td>\n",
       "      <td>-0.2960</td>\n",
       "    </tr>\n",
       "    <tr>\n",
       "      <th>704</th>\n",
       "      <td>0</td>\n",
       "      <td>trump whines obamacare takes credit obama‚s ec...</td>\n",
       "      <td>-0.3818</td>\n",
       "    </tr>\n",
       "  </tbody>\n",
       "</table>\n",
       "</div>"
      ],
      "text/plain": [
       "       label                                           headline  sentiment\n",
       "20049      1  'what happened': clinton memoir looks 2016 ele...     0.0000\n",
       "11030      0  yea baby! trump reverses obama pro-abortion ‚p...     0.0000\n",
       "6534       0  white vote can‚t won‚t save trump ‚ republican...     0.0000\n",
       "29749      1               eu gives june deadline deal refugees     0.0000\n",
       "4927       0         gop senator says trump doesn‚t deserve win     0.5859\n",
       "30976      1  chile's leftists stop short endorsing presiden...    -0.2960\n",
       "6156       0           unfortunate bug lands trump‚s hair rally    -0.4588\n",
       "3501       0  prominent holocaust attorney files massive law...     0.1027\n",
       "31452      1  argentina's macri expects missing sub found co...    -0.2960\n",
       "704        0  trump whines obamacare takes credit obama‚s ec...    -0.3818"
      ]
     },
     "execution_count": 77,
     "metadata": {},
     "output_type": "execute_result"
    }
   ],
   "source": [
    "df_combined = pd.concat([df0, df1], axis=0)\n",
    "df_combined.sample(10)"
   ]
  },
  {
   "cell_type": "markdown",
   "metadata": {},
   "source": [
    "<h1 style=\"color:blue;\">Displaying some negative words / some playing </h1>"
   ]
  },
  {
   "cell_type": "code",
   "execution_count": 79,
   "metadata": {},
   "outputs": [
    {
     "name": "stderr",
     "output_type": "stream",
     "text": [
      "[nltk_data] Downloading package punkt to /Users/selinwork/nltk_data...\n",
      "[nltk_data]   Package punkt is already up-to-date!\n",
      "[nltk_data] Downloading package punkt_tab to\n",
      "[nltk_data]     /Users/selinwork/nltk_data...\n",
      "[nltk_data]   Package punkt_tab is already up-to-date!\n",
      "/var/folders/rp/xh3vdlq17n94q_y2mld23x5r0000gn/T/ipykernel_38631/3290108613.py:7: SettingWithCopyWarning: \n",
      "A value is trying to be set on a copy of a slice from a DataFrame.\n",
      "Try using .loc[row_indexer,col_indexer] = value instead\n",
      "\n",
      "See the caveats in the documentation: https://pandas.pydata.org/pandas-docs/stable/user_guide/indexing.html#returning-a-view-versus-a-copy\n",
      "  df0['tokens'] = df0['headline'].apply(clean_text)\n"
     ]
    },
    {
     "name": "stdout",
     "output_type": "stream",
     "text": [
      "[('racist', 285), ('gun', 200), ('attack', 190), ('war', 157), ('fake', 148), ('illegal', 140), ('shocking', 129), ('destroys', 122), ('lies', 121), ('stop', 121), ('ban', 116), ('attacks', 115), ('protesters', 108), ('hate', 107), ('threatens', 95), ('death', 92), ('terrorist', 89), ('arrested', 86), ('disgusting', 85), ('brutal', 84)]\n"
     ]
    },
    {
     "name": "stderr",
     "output_type": "stream",
     "text": [
      "/var/folders/rp/xh3vdlq17n94q_y2mld23x5r0000gn/T/ipykernel_38631/3290108613.py:15: SettingWithCopyWarning: \n",
      "A value is trying to be set on a copy of a slice from a DataFrame.\n",
      "Try using .loc[row_indexer,col_indexer] = value instead\n",
      "\n",
      "See the caveats in the documentation: https://pandas.pydata.org/pandas-docs/stable/user_guide/indexing.html#returning-a-view-versus-a-copy\n",
      "  df0['negative_words'] = df0['tokens'].apply(get_negative_words)\n"
     ]
    }
   ],
   "source": [
    "from collections import Counter\n",
    "\n",
    "# Tokenize the text\n",
    "nltk.download('punkt')\n",
    "nltk.download('punkt_tab')\n",
    "\n",
    "df0['tokens'] = df0['headline'].apply(clean_text)\n",
    "\n",
    "# Define a function to filter negative words\n",
    "def get_negative_words(tokens):\n",
    "    negative_words = [word for word in tokens if vd.polarity_scores(word)['compound'] < 0]\n",
    "    return negative_words\n",
    "\n",
    "# Apply the function to get negative words\n",
    "df0['negative_words'] = df0['tokens'].apply(get_negative_words)\n",
    "\n",
    "# Flatten the list of negative words and count their frequency\n",
    "all_negative_words = [word for sublist in df0['negative_words'] for word in sublist]\n",
    "negative_word_freq = Counter(all_negative_words)\n",
    "\n",
    "# Display the most common negative words\n",
    "print(negative_word_freq.most_common(20))"
   ]
  }
 ],
 "metadata": {
  "kernelspec": {
   "display_name": "NLP_LLM",
   "language": "python",
   "name": "python3"
  },
  "language_info": {
   "codemirror_mode": {
    "name": "ipython",
    "version": 3
   },
   "file_extension": ".py",
   "mimetype": "text/x-python",
   "name": "python",
   "nbconvert_exporter": "python",
   "pygments_lexer": "ipython3",
   "version": "3.10.16"
  }
 },
 "nbformat": 4,
 "nbformat_minor": 2
}
